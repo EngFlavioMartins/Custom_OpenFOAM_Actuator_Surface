{
 "cells": [
  {
   "cell_type": "code",
   "execution_count": 1,
   "metadata": {},
   "outputs": [
    {
     "name": "stdout",
     "output_type": "stream",
     "text": [
      "14.37576\n",
      "2.6801039999999996\n",
      "3.5397599999999994\n",
      "0.35397599999999996\n",
      "|Ftop|=14.623\n",
      "|Fbot|=3.557\n",
      "Ftop dir=\n",
      "[-2.680104 14.37576 ]\n",
      "Fbot dir=\n",
      "[-0.353976  3.53976 ]\n"
     ]
    }
   ],
   "source": [
    "import numpy\n",
    "\n",
    "rho = 1.204\n",
    "Uinf = 4.\n",
    "\n",
    "CLtop = 1.99\n",
    "CDtop = 0.53\n",
    "\n",
    "CLbot = 0.49\n",
    "CDbot = 0.07\n",
    "\n",
    "FyTop = CLtop * (0.5*rho*Uinf**2) * (1.5 * 0.50)\n",
    "FxTop = CDtop * (0.5*rho*Uinf**2) * (1.5 * 0.35)\n",
    "\n",
    "print(FyTop)\n",
    "print(FxTop)\n",
    "\n",
    "FyBot = CLbot * (0.5*rho*Uinf**2) * (1.5 * 0.50)\n",
    "FxBot = CDbot * (0.5*rho*Uinf**2) * (1.5 * 0.35)\n",
    "\n",
    "print(FyBot)\n",
    "print(FxBot)\n",
    "\n",
    "Ftop = numpy.sqrt( FyTop**2 + FxTop**2 )\n",
    "Fbot = numpy.sqrt( FyBot**2 + FxBot**2 )\n",
    "\n",
    "print(f\"|Ftop|={Ftop:0.3f}\")\n",
    "print(f\"|Fbot|={Fbot:0.3f}\")\n",
    "\n",
    "ForceVectorTop = numpy.zeros(2)\n",
    "ForceVectorTop[0] = -FxTop/Ftop * 0.3816\n",
    "ForceVectorTop[1] = FyTop/Ftop * 0.3816\n",
    "print(f\"Ftop dir=\")\n",
    "print(ForceVectorTop * Ftop)\n",
    "\n",
    "ForceVectorBot = numpy.zeros(2)\n",
    "ForceVectorBot[0] = -FxBot/Fbot * 0.3816\n",
    "ForceVectorBot[1] = FyBot/Fbot  * 0.3816\n",
    "print(f\"Fbot dir=\")\n",
    "print(ForceVectorBot * Fbot)\n"
   ]
  }
 ],
 "metadata": {
  "kernelspec": {
   "display_name": "base",
   "language": "python",
   "name": "python3"
  },
  "language_info": {
   "codemirror_mode": {
    "name": "ipython",
    "version": 3
   },
   "file_extension": ".py",
   "mimetype": "text/x-python",
   "name": "python",
   "nbconvert_exporter": "python",
   "pygments_lexer": "ipython3",
   "version": "3.9.12"
  }
 },
 "nbformat": 4,
 "nbformat_minor": 2
}
